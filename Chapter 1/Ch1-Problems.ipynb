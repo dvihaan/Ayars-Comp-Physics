{
 "cells": [
  {
   "cell_type": "markdown",
   "metadata": {},
   "source": [
    "1-0: Use a list comprehension to create a list of the squares of the numbers between 10 and 20, including the endpoints"
   ]
  },
  {
   "cell_type": "code",
   "execution_count": 1,
   "metadata": {},
   "outputs": [
    {
     "name": "stdout",
     "output_type": "stream",
     "text": [
      "[1, 4, 9, 16, 25, 36, 49, 64, 81, 100, 121, 144, 169, 196, 225, 256, 289, 324, 361, 400]\n"
     ]
    }
   ],
   "source": [
    "squares = [x**2 for x in range(1,21)]\n",
    "print(squares)"
   ]
  },
  {
   "cell_type": "markdown",
   "metadata": {},
   "source": [
    "1-1: Write a Python program to print out the first N numbers in the Fibonacci\n",
    "sequence. The program should ask the user for N, and should\n",
    "require that N be greater than 2."
   ]
  },
  {
   "cell_type": "code",
   "execution_count": 2,
   "metadata": {},
   "outputs": [
    {
     "name": "stdout",
     "output_type": "stream",
     "text": [
      "[1, 1]\n"
     ]
    }
   ],
   "source": [
    "def fibonacci(n):\n",
    "    seq = [1,1]\n",
    "    if n > 2:\n",
    "        for i in range(n-2):\n",
    "            seq.append(seq[-1]+seq[-2])\n",
    "    return seq\n",
    "\n",
    "limit = int(input(\"Enter N: \"))\n",
    "print(fibonacci(limit))"
   ]
  },
  {
   "cell_type": "markdown",
   "metadata": {},
   "source": [
    "1-2: For the model used in introductory physics courses, a projectile thrown vertically at some initial velocity $v_i$ has position $y(t) = y_i + v_it - \\frac{1}{2}gt^2$, where $g = 9.8 m/s^2$. Write a Python program that creates two lists, one containing time data (50 data points over 5 seconds) and the other containing the corresponding vertical position data for this projectile. The program should ask the user for the initial height $y_i$ and initial velocity $v_i$, and should print a nicely-formatted table of the list values after it has calculated them."
   ]
  },
  {
   "cell_type": "code",
   "execution_count": 3,
   "metadata": {},
   "outputs": [
    {
     "data": {
      "text/plain": [
       "(-20.0, 20.0)"
      ]
     },
     "execution_count": 3,
     "metadata": {},
     "output_type": "execute_result"
    },
    {
     "data": {
      "image/png": "[encoded data removed]",
      "text/plain": [
       "<Figure size 640x480 with 1 Axes>"
      ]
     },
     "metadata": {},
     "output_type": "display_data"
    }
   ],
   "source": [
    "import numpy as np\n",
    "import matplotlib.pyplot as plt\n",
    "\n",
    "def positions(y,v,g=9.81,timePoints=50,time=5):\n",
    "    t=np.linspace(0,time,timePoints)\n",
    "    y = y + v*t - 0.5*g*t**2\n",
    "    return t,y\n",
    "\n",
    "yi = float(input(\"Enter the initial height in meters: \"))\n",
    "vi = float(input(\"Enter the initial velocity in meters per second: \"))\n",
    "\n",
    "time,pos = positions(yi,vi)\n",
    "\n",
    "graph = plt.plot(time,pos,'b.')\n",
    "plt.title('Position vs Time')\n",
    "plt.xlabel('Time')\n",
    "plt.ylabel('Position')\n",
    "plt.xlim(0, 5)\n",
    "plt.ylim(-20, 20)"
   ]
  },
  {
   "cell_type": "markdown",
   "metadata": {},
   "source": [
    "1-3: The energy levels for a quantum particle in a three-dimensional rectangular box of dimensions $\\{L_1, L_2, L_3\\}$ are given by\n",
    "$$\n",
    "E_{n1,n2,n3} = \\frac{\\hbar^2 \\pi^2}{2m}[\\frac{n_1^2}{L_1^2}+\\frac{n_2^2}{L_2^2}+\\frac{n_3^2}{L_3^2}]\n",
    "$$\n",
    "Where the n's are integers greater than or equal to one. Write a program that will calculate, and list in order of increasing energy, the values of the n's for the 10 lowest different energy levels, given a box for which $L_2 = 2L_1$ and $L_3 = 4L_1$"
   ]
  },
  {
   "cell_type": "code",
   "execution_count": 4,
   "metadata": {},
   "outputs": [
    {
     "data": {
      "text/plain": [
       "[(3.121772300638143e-36, 1, 1, 1),\n",
       " (3.5677397721578774e-36, 1, 1, 2),\n",
       " (4.311018891357435e-36, 1, 1, 3),\n",
       " (4.905642186717081e-36, 1, 2, 1),\n",
       " (5.3516096582368154e-36, 1, 1, 4)]"
      ]
     },
     "execution_count": 4,
     "metadata": {},
     "output_type": "execute_result"
    }
   ],
   "source": [
    "import numpy as np\n",
    "\n",
    "hbar = 6.626 * 10**-34\n",
    "em = 9.109 * 10**-31\n",
    "\n",
    "def lowestEnergyLevels(l1):\n",
    "    k = (hbar**2 * np.pi**2)/(2*em)\n",
    "    elist = []\n",
    "    l2 = l1*2\n",
    "    l3 = l1*4\n",
    "    nlist = [1,2,3,4,5]\n",
    "    for n1 in nlist:\n",
    "        for n2 in nlist:\n",
    "            for n3 in nlist:\n",
    "                e = n1**2/l1**2 + n2**2/l2**2 + n3**2/l3**2\n",
    "                e*= k\n",
    "                elist.append((e,n1,n2,n3))\n",
    "    elist.sort()\n",
    "    return elist[:5]\n",
    "\n",
    "lowestEnergyLevels(1)"
   ]
  },
  {
   "cell_type": "markdown",
   "metadata": {},
   "source": [
    "1-4: Write a function for\n",
    "$$\n",
    "sinc(x) \\equiv \\frac{sinx}{x}\n",
    "$$"
   ]
  },
  {
   "cell_type": "code",
   "execution_count": 5,
   "metadata": {},
   "outputs": [
    {
     "name": "stdout",
     "output_type": "stream",
     "text": [
      "3.8981718325193755e-17\n",
      "3.8981718325193755e-17\n"
     ]
    }
   ],
   "source": [
    "def sinc(x):\n",
    "    if x == 0:\n",
    "        return np.inf\n",
    "    else:\n",
    "        return np.sin(x)/x\n",
    "\n",
    "print(sinc(np.pi))\n",
    "print(np.sinc(1))"
   ]
  },
  {
   "cell_type": "markdown",
   "metadata": {},
   "source": [
    "1-5: Write a function for the nth triangular number"
   ]
  },
  {
   "cell_type": "code",
   "execution_count": 6,
   "metadata": {},
   "outputs": [
    {
     "name": "stdout",
     "output_type": "stream",
     "text": [
      "21\n"
     ]
    }
   ],
   "source": [
    "def triNum(n):\n",
    "    res = 0\n",
    "    for i in range(n+1):\n",
    "        res += i\n",
    "    return res\n",
    "\n",
    "print(triNum(6))"
   ]
  },
  {
   "cell_type": "markdown",
   "metadata": {},
   "source": [
    "1-6: Write a function that determines whether a number is prime or not"
   ]
  },
  {
   "cell_type": "code",
   "execution_count": 7,
   "metadata": {},
   "outputs": [
    {
     "name": "stdout",
     "output_type": "stream",
     "text": [
      "True\n",
      "CPU times: total: 0 ns\n",
      "Wall time: 74.6 μs\n"
     ]
    }
   ],
   "source": [
    "%%time\n",
    "from math import *\n",
    "def isPrime(n):\n",
    "    if n == 0 or n == 1:\n",
    "        return False\n",
    "    for i in range(2,floor(sqrt(n))+1):\n",
    "        if n%i == 0:\n",
    "            return False\n",
    "    return True\n",
    "\n",
    "print(isPrime(23))"
   ]
  },
  {
   "cell_type": "markdown",
   "metadata": {},
   "source": [
    "1-7: Write a Python program to make an N x N multiplication table and write this table to a file. Each row in the table should be a single line of the file, and the numbers in the row should be tab-delimited. Write the program so that it accepts two parameters when invoked: the size N of the multiplication table and the filename of the desired output file."
   ]
  },
  {
   "cell_type": "code",
   "execution_count": 28,
   "metadata": {},
   "outputs": [],
   "source": [
    "import pandas as pd\n",
    "\n",
    "def timesTable(n, filename):\n",
    "    table = pd.DataFrame([[i*j for j in range(1,n+1)] for i in range(1,n+1)])\n",
    "    table.index = [i for i in range(1,n+1)]\n",
    "    table.columns = [i for i in range(1,n+1)]\n",
    "    table.to_csv(filename+'.csv', sep='\\t')\n",
    "\n",
    "timesTable(12, 'table')"
   ]
  },
  {
   "cell_type": "markdown",
   "metadata": {},
   "source": [
    "1-8: Write a program that takes a multi-digit integer and prints out its digits in English. Bonus point if the program takes care of ones/tens/hundreds/thousands properly."
   ]
  },
  {
   "cell_type": "code",
   "execution_count": 29,
   "metadata": {},
   "outputs": [
    {
     "name": "stdout",
     "output_type": "stream",
     "text": [
      "One Hundred Twenty Three\n"
     ]
    }
   ],
   "source": [
    "def number_to_words(n):\n",
    "    ones = [\"\", \"One\", \"Two\", \"Three\", \"Four\", \"Five\", \"Six\", \"Seven\", \"Eight\", \"Nine\"]\n",
    "    teens = [\"\", \"Eleven\", \"Twelve\", \"Thirteen\", \"Fourteen\", \"Fifteen\", \"Sixteen\", \"Seventeen\", \"Eighteen\", \"Nineteen\"]\n",
    "    tens = [\"\", \"Ten\", \"Twenty\", \"Thirty\", \"Forty\", \"Fifty\", \"Sixty\", \"Seventy\", \"Eighty\", \"Ninety\"]\n",
    "    thousands = [\"\", \"Thousand\", \"Million\", \"Billion\"]\n",
    "\n",
    "    def words(num):\n",
    "        if num == 0:\n",
    "            return \"Zero\"\n",
    "        elif num < 10:\n",
    "            return ones[num]\n",
    "        elif 10 < num < 20:\n",
    "            return teens[num - 10]\n",
    "        elif num < 100:\n",
    "            return tens[num // 10] + (\" \" + ones[num % 10] if num % 10 != 0 else \"\")\n",
    "        elif num < 1000:\n",
    "            return ones[num // 100] + \" Hundred\" + (\" \" + words(num % 100) if num % 100 != 0 else \"\")\n",
    "        else:\n",
    "            for i, word in enumerate(thousands):\n",
    "                if num < 1000 ** (i + 1):\n",
    "                    return words(num // (1000 ** i)) + \" \" + word + (\" \" + words(num % (1000 ** i)) if num % (1000 ** i) != 0 else \"\")\n",
    "\n",
    "    return words(n)\n",
    "\n",
    "number = int(input(\"Enter a multi-digit integer: \"))\n",
    "print(number_to_words(number))"
   ]
  }
 ],
 "metadata": {
  "kernelspec": {
   "display_name": "Python 3",
   "language": "python",
   "name": "python3"
  },
  "language_info": {
   "codemirror_mode": {
    "name": "ipython",
    "version": 3
   },
   "file_extension": ".py",
   "mimetype": "text/x-python",
   "name": "python",
   "nbconvert_exporter": "python",
   "pygments_lexer": "ipython3",
   "version": "3.13.0"
  }
 },
 "nbformat": 4,
 "nbformat_minor": 2
}
