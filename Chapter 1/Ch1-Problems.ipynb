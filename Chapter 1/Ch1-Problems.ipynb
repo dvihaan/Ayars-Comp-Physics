{
 "cells": [
  {
   "cell_type": "markdown",
   "metadata": {},
   "source": [
    "1-0: Use a list comprehension to create a list of the squares of the numbers between 10 and 20, including the endpoints"
   ]
  },
  {
   "cell_type": "code",
   "execution_count": 2,
   "metadata": {},
   "outputs": [
    {
     "name": "stdout",
     "output_type": "stream",
     "text": [
      "[1, 4, 9, 16, 25, 36, 49, 64, 81, 100, 121, 144, 169, 196, 225, 256, 289, 324, 361, 400]\n"
     ]
    }
   ],
   "source": [
    "squares = [x**2 for x in range(1,21)]\n",
    "print(squares)"
   ]
  },
  {
   "cell_type": "markdown",
   "metadata": {},
   "source": [
    "1-1: Write a Python program to print out the first N numbers in the Fibonacci\n",
    "sequence. The program should ask the user for N, and should\n",
    "require that N be greater than 2."
   ]
  },
  {
   "cell_type": "code",
   "execution_count": null,
   "metadata": {},
   "outputs": [],
   "source": [
    "def fibonacci(n):\n",
    "    seq = [1,1]\n",
    "    if n > 2:\n",
    "        for i in range(n-1):\n",
    "            seq.append(seq[-1]+seq[-2])\n",
    "    return seq\n",
    "\n",
    "limit = int(input(\"Enter N: \"))\n",
    "print(fibonacci(limit))"
   ]
  }
 ],
 "metadata": {
  "kernelspec": {
   "display_name": "Python 3",
   "language": "python",
   "name": "python3"
  },
  "language_info": {
   "codemirror_mode": {
    "name": "ipython",
    "version": 3
   },
   "file_extension": ".py",
   "mimetype": "text/x-python",
   "name": "python",
   "nbconvert_exporter": "python",
   "pygments_lexer": "ipython3",
   "version": "3.13.0"
  }
 },
 "nbformat": 4,
 "nbformat_minor": 2
}
