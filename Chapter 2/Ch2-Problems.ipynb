{
 "cells": [
  {
   "cell_type": "markdown",
   "metadata": {},
   "source": [
    "2-0"
   ]
  },
  {
   "cell_type": "code",
   "execution_count": 2,
   "metadata": {},
   "outputs": [
    {
     "data": {
      "text/plain": [
       "1.1365281330117678"
      ]
     },
     "execution_count": 2,
     "metadata": {},
     "output_type": "execute_result"
    }
   ],
   "source": [
    "def f(x):\n",
    "    return x**4 + x**3 - x - 2\n",
    "\n",
    "def secantRoots(f, g1, g2, tolerance):\n",
    "    x1 = g1\n",
    "    x2 = g2\n",
    "    dx = abs(x2 - x1)\n",
    "    df = f(x2) - f(x1)\n",
    "    \n",
    "    while dx > tolerance:      \n",
    "        x = x2 - f(x2) * (x2 - x1) / df\n",
    "        x1 = x2\n",
    "        x2 = x\n",
    "        df = f(x2) - f(x1)\n",
    "        dx = abs(x2 - x1)\n",
    "\n",
    "    if abs(f(x)) < tolerance:\n",
    "        return x\n",
    "    else:  \n",
    "        return None\n",
    "    \n",
    "secantRoots(f, 3, 4, 1e-6)"
   ]
  },
  {
   "cell_type": "markdown",
   "metadata": {},
   "source": [
    "2-1"
   ]
  },
  {
   "cell_type": "code",
   "execution_count": 4,
   "metadata": {},
   "outputs": [
    {
     "data": {
      "text/plain": [
       "8.0"
      ]
     },
     "execution_count": 4,
     "metadata": {},
     "output_type": "execute_result"
    }
   ],
   "source": [
    "def trapezoidIntegral(f, dx):\n",
    "    result = 0.0\n",
    "\n",
    "    for i in range(1,len(f)):\n",
    "        result += (f[i-1] + f[i]) / 2 * dx\n",
    "    return result\n",
    "\n",
    "trapezoidIntegral([0, 1, 2, 3, 4], 1)"
   ]
  },
  {
   "cell_type": "markdown",
   "metadata": {},
   "source": [
    "2-2"
   ]
  },
  {
   "cell_type": "code",
   "execution_count": 23,
   "metadata": {},
   "outputs": [
    {
     "name": "stdout",
     "output_type": "stream",
     "text": [
      "0.47322531435151366\n",
      "0.4732253143520069\n",
      "0.47322531435151316\n"
     ]
    }
   ],
   "source": [
    "from scipy.integrate import *\n",
    "import numpy as np\n",
    "\n",
    "def trapIntF(f, a, b, n):\n",
    "    x = np.linspace(a, b, n)\n",
    "    y = f(x)\n",
    "    return trapezoid(y, x)\n",
    "\n",
    "def simpsonIntegral(f, a, b, n):\n",
    "    x = np.linspace(a, b, n)\n",
    "    y = f(x)\n",
    "    return simpson(y,x=x)\n",
    "\n",
    "def f(x):\n",
    "    return np.cos(np.pi * x**2 / 2)\n",
    "\n",
    "print(quad(f, 0, 6.9)[0])\n",
    "print(trapIntF(f, 0, 6.9, 10000000))\n",
    "print(simpsonIntegral(f, 0, 6.9, 10000000))"
   ]
  },
  {
   "cell_type": "markdown",
   "metadata": {},
   "source": [
    "2-4"
   ]
  },
  {
   "cell_type": "code",
   "execution_count": 37,
   "metadata": {},
   "outputs": [
    {
     "name": "stdout",
     "output_type": "stream",
     "text": [
      "16.755160819145562\n"
     ]
    }
   ],
   "source": [
    "r = 2\n",
    "def f(x,y):\n",
    "    return 2 * np.pi * x\n",
    "\n",
    "print(dblquad(f,0,r,0, lambda x: np.sqrt(r**2 - x**2))[0])"
   ]
  },
  {
   "cell_type": "code",
   "execution_count": null,
   "metadata": {},
   "outputs": [],
   "source": []
  }
 ],
 "metadata": {
  "kernelspec": {
   "display_name": "Python 3",
   "language": "python",
   "name": "python3"
  },
  "language_info": {
   "codemirror_mode": {
    "name": "ipython",
    "version": 3
   },
   "file_extension": ".py",
   "mimetype": "text/x-python",
   "name": "python",
   "nbconvert_exporter": "python",
   "pygments_lexer": "ipython3",
   "version": "3.13.0"
  }
 },
 "nbformat": 4,
 "nbformat_minor": 2
}
