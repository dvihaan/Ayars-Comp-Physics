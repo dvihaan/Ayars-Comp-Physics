{
 "cells": [
  {
   "cell_type": "markdown",
   "metadata": {},
   "source": [
    "Equation to be tested"
   ]
  },
  {
   "cell_type": "code",
   "execution_count": 14,
   "metadata": {},
   "outputs": [],
   "source": [
    "from math import *\n",
    "\n",
    "def f(x):\n",
    "    return x**4 + x**3 - x - 2"
   ]
  },
  {
   "cell_type": "markdown",
   "metadata": {},
   "source": [
    "Bisection Method"
   ]
  },
  {
   "cell_type": "code",
   "execution_count": 27,
   "metadata": {},
   "outputs": [
    {
     "name": "stdout",
     "output_type": "stream",
     "text": [
      "None\n"
     ]
    }
   ],
   "source": [
    "def bisectionRoots(func, g1, g2, tolerance):\n",
    "    dx = abs(g2 - g1)\n",
    "    \n",
    "    while dx > tolerance:\n",
    "        x = (g1 + g2) / 2\n",
    "        if func(g1) * func(x) < 0:\n",
    "            g2 = x\n",
    "        else:\n",
    "            g1 = x\n",
    "        dx = abs(g2 - g1)\n",
    "\n",
    "    if abs(f(x)-x) < tolerance:\n",
    "        return x \n",
    "    else:\n",
    "        return None\n",
    "\n",
    "print(bisectionRoots(f, -3, 3, 1e-6))"
   ]
  },
  {
   "cell_type": "markdown",
   "metadata": {},
   "source": [
    "Newton's Method"
   ]
  },
  {
   "cell_type": "code",
   "execution_count": 16,
   "metadata": {},
   "outputs": [
    {
     "data": {
      "text/plain": [
       "1.1365281330473112"
      ]
     },
     "execution_count": 16,
     "metadata": {},
     "output_type": "execute_result"
    }
   ],
   "source": [
    "def newtonRoots(f, df, g, tolerance):\n",
    "    x = g\n",
    "    dx = abs(f(x) / df(x))\n",
    "    \n",
    "    while dx > tolerance:\n",
    "        x = x - f(x) / df(x)\n",
    "        dx = abs(f(x) / df(x))\n",
    "    \n",
    "    if abs(f(x)) < tolerance:\n",
    "        return x\n",
    "    else:\n",
    "        return None\n",
    "    \n",
    "newtonRoots(f, lambda x: 4*x**3 + 3*x**2 - 1, 3, 1e-6)"
   ]
  },
  {
   "cell_type": "markdown",
   "metadata": {},
   "source": [
    "Secant Method"
   ]
  },
  {
   "cell_type": "code",
   "execution_count": 17,
   "metadata": {},
   "outputs": [
    {
     "data": {
      "text/plain": [
       "1.1365281330117678"
      ]
     },
     "execution_count": 17,
     "metadata": {},
     "output_type": "execute_result"
    }
   ],
   "source": [
    "def secantRoots(f, g1, g2, tolerance):\n",
    "    x1 = g1\n",
    "    x2 = g2\n",
    "    dx = abs(x2 - x1)\n",
    "    df = f(x2) - f(x1)\n",
    "    \n",
    "    while dx > tolerance:      \n",
    "        x = x2 - f(x2) * (x2 - x1) / df\n",
    "        x1 = x2\n",
    "        x2 = x\n",
    "        df = f(x2) - f(x1)\n",
    "        dx = abs(x2 - x1)\n",
    "\n",
    "    if abs(f(x)) < tolerance:\n",
    "        return x\n",
    "    else:  \n",
    "        return None\n",
    "    \n",
    "secantRoots(f, 3, 4, 1e-6)"
   ]
  }
 ],
 "metadata": {
  "kernelspec": {
   "display_name": "Python 3",
   "language": "python",
   "name": "python3"
  },
  "language_info": {
   "codemirror_mode": {
    "name": "ipython",
    "version": 3
   },
   "file_extension": ".py",
   "mimetype": "text/x-python",
   "name": "python",
   "nbconvert_exporter": "python",
   "pygments_lexer": "ipython3",
   "version": "3.13.0"
  }
 },
 "nbformat": 4,
 "nbformat_minor": 2
}
